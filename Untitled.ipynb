{
 "cells": [
  {
   "cell_type": "code",
   "execution_count": 1,
   "id": "ceea3423-0e20-4c66-88f3-e04b53b83c6b",
   "metadata": {},
   "outputs": [],
   "source": [
    "from deeppavlov import build_model"
   ]
  },
  {
   "cell_type": "code",
   "execution_count": 2,
   "id": "d5237cc0-8dd1-4693-b483-ea3cac3c80b8",
   "metadata": {},
   "outputs": [
    {
     "name": "stderr",
     "output_type": "stream",
     "text": [
      "2022-12-09 19:18:29.832 INFO in 'deeppavlov.core.data.utils'['utils'] at line 95: Downloading from http://files.deeppavlov.ai/datasets/insults_data.tar.gz to C:\\Users\\jordnu\\.deeppavlov\\insults_data.tar.gz\n",
      "100%|██████████| 682k/682k [00:00<00:00, 1.54MB/s]\n",
      "2022-12-09 19:18:30.814 INFO in 'deeppavlov.core.data.utils'['utils'] at line 276: Extracting C:\\Users\\jordnu\\.deeppavlov\\insults_data.tar.gz archive into C:\\Users\\jordnu\\.deeppavlov\\downloads\n",
      "2022-12-09 19:18:31.357 INFO in 'deeppavlov.core.data.utils'['utils'] at line 95: Downloading from http://files.deeppavlov.ai/deeppavlov_data/classifiers/insults_kaggle_torch_bert_v5.tar.gz to C:\\Users\\jordnu\\.deeppavlov\\models\\insults_kaggle_torch_bert_v5.tar.gz\n",
      "100%|██████████| 1.09G/1.09G [01:37<00:00, 11.2MB/s]\n",
      "2022-12-09 19:20:08.959 INFO in 'deeppavlov.core.data.utils'['utils'] at line 276: Extracting C:\\Users\\jordnu\\.deeppavlov\\models\\insults_kaggle_torch_bert_v5.tar.gz archive into C:\\Users\\jordnu\\.deeppavlov\\models\\classifiers\n",
      "Some weights of the model checkpoint at bert-base-uncased were not used when initializing BertForSequenceClassification: ['cls.predictions.decoder.weight', 'cls.predictions.transform.LayerNorm.bias', 'cls.predictions.bias', 'cls.predictions.transform.dense.weight', 'cls.predictions.transform.LayerNorm.weight', 'cls.seq_relationship.weight', 'cls.predictions.transform.dense.bias', 'cls.seq_relationship.bias']\n",
      "- This IS expected if you are initializing BertForSequenceClassification from the checkpoint of a model trained on another task or with another architecture (e.g. initializing a BertForSequenceClassification model from a BertForPreTraining model).\n",
      "- This IS NOT expected if you are initializing BertForSequenceClassification from the checkpoint of a model that you expect to be exactly identical (initializing a BertForSequenceClassification model from a BertForSequenceClassification model).\n",
      "Some weights of BertForSequenceClassification were not initialized from the model checkpoint at bert-base-uncased and are newly initialized: ['classifier.bias', 'classifier.weight']\n",
      "You should probably TRAIN this model on a down-stream task to be able to use it for predictions and inference.\n"
     ]
    }
   ],
   "source": [
    "model = build_model(\"deeppavlov/configs/classifiers/insults_kaggle_bert.json\", install=True, download=True)"
   ]
  },
  {
   "cell_type": "code",
   "execution_count": 3,
   "id": "11742028-1e8a-4435-8be8-3af6318968d4",
   "metadata": {},
   "outputs": [
    {
     "data": {
      "text/plain": [
       "['Insult']"
      ]
     },
     "execution_count": 3,
     "metadata": {},
     "output_type": "execute_result"
    }
   ],
   "source": [
    "model('Fuck you, leatherman')"
   ]
  },
  {
   "cell_type": "code",
   "execution_count": 4,
   "id": "e9183bba-0c90-4e49-bf63-b0025630f71a",
   "metadata": {},
   "outputs": [
    {
     "data": {
      "text/plain": [
       "['Not Insult']"
      ]
     },
     "execution_count": 4,
     "metadata": {},
     "output_type": "execute_result"
    }
   ],
   "source": [
    "model('Oh sheet!')"
   ]
  },
  {
   "cell_type": "code",
   "execution_count": 5,
   "id": "eadf51a4-65fa-4c78-ba94-416d20a63d4d",
   "metadata": {},
   "outputs": [
    {
     "data": {
      "text/plain": [
       "['Not Insult']"
      ]
     },
     "execution_count": 5,
     "metadata": {},
     "output_type": "execute_result"
    }
   ],
   "source": [
    "model('You sheet')"
   ]
  },
  {
   "cell_type": "code",
   "execution_count": 6,
   "id": "20fe0d90-64b7-43c5-b8a8-45c9de7a3753",
   "metadata": {},
   "outputs": [
    {
     "data": {
      "text/plain": [
       "['Insult']"
      ]
     },
     "execution_count": 6,
     "metadata": {},
     "output_type": "execute_result"
    }
   ],
   "source": [
    "model('You shit')"
   ]
  },
  {
   "cell_type": "code",
   "execution_count": 7,
   "id": "048bb362-884d-48c1-bc58-8d79a1df29a7",
   "metadata": {},
   "outputs": [
    {
     "data": {
      "text/plain": [
       "['Not Insult']"
      ]
     },
     "execution_count": 7,
     "metadata": {},
     "output_type": "execute_result"
    }
   ],
   "source": [
    "model('Oh shit')"
   ]
  },
  {
   "cell_type": "code",
   "execution_count": null,
   "id": "7ef54f28-02f5-4dcf-a03e-b1d4810adbd7",
   "metadata": {},
   "outputs": [],
   "source": []
  }
 ],
 "metadata": {
  "kernelspec": {
   "display_name": "Python 3 (ipykernel)",
   "language": "python",
   "name": "python3"
  },
  "language_info": {
   "codemirror_mode": {
    "name": "ipython",
    "version": 3
   },
   "file_extension": ".py",
   "mimetype": "text/x-python",
   "name": "python",
   "nbconvert_exporter": "python",
   "pygments_lexer": "ipython3",
   "version": "3.9.13"
  }
 },
 "nbformat": 4,
 "nbformat_minor": 5
}
